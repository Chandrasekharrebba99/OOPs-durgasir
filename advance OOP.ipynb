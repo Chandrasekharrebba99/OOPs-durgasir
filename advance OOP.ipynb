{
 "cells": [
  {
   "cell_type": "code",
   "execution_count": 18,
   "id": "ec571651",
   "metadata": {},
   "outputs": [
    {
     "name": "stdout",
     "output_type": "stream",
     "text": [
      "Rebba chandra\n",
      "22\n",
      "SVNIT\n",
      "For The static Method IS \n",
      "Average of  2 and 8 is 5.0\n",
      "Average of  5 and 67 is 36.0\n"
     ]
    }
   ],
   "source": [
    "#durga sir classes\n",
    "\n",
    "class students:\n",
    "    collegename = \"SVNIT\" #static variable\\class level variable \n",
    "    def __init__(self,x,y):     #constructor\n",
    "        self.name = x                #self.name is Instanse variable\n",
    "        self.age = y                 #x , y are local Variable \n",
    "        \n",
    "    def display(self):          #instance method\n",
    "        print(self.name)\n",
    "        print(self.age)\n",
    "        \n",
    "    @classmethod             \n",
    "    def getmethod(clm):        #class method\n",
    "        print(clm.collegename)\n",
    "        \n",
    "    @staticmethod                #decorator\n",
    "    def findavg(x,y):            #staticmethod\n",
    "        print(\"Average of \",x,\"and\",y,\"is\",(x+y)/2)\n",
    "        \n",
    "\n",
    "s0 = students(\"Rebba chandra\",22)\n",
    "s0.display()\n",
    "\n",
    "s0.getmethod()\n",
    "\n",
    "print(\"For The static Method IS \")\n",
    "s0.findavg(2,8)\n",
    "students.findavg(5,67)"
   ]
  },
  {
   "cell_type": "code",
   "execution_count": 23,
   "id": "18b06bf1",
   "metadata": {},
   "outputs": [
    {
     "ename": "IndentationError",
     "evalue": "unexpected indent (Temp/ipykernel_21432/2346724148.py, line 4)",
     "output_type": "error",
     "traceback": [
      "\u001b[1;36m  File \u001b[1;32m\"C:\\Users\\chandu\\AppData\\Local\\Temp/ipykernel_21432/2346724148.py\"\u001b[1;36m, line \u001b[1;32m4\u001b[0m\n\u001b[1;33m    name1=Name(\"ABC\")\u001b[0m\n\u001b[1;37m    ^\u001b[0m\n\u001b[1;31mIndentationError\u001b[0m\u001b[1;31m:\u001b[0m unexpected indent\n"
     ]
    }
   ],
   "source": [
    "class Name:\n",
    "    def __init__(javatpoint):\n",
    "        javajavatpoint = java\n",
    "         name1=Name(\"ABC\")\n",
    "           name2=name1"
   ]
  },
  {
   "cell_type": "markdown",
   "id": "d0e672b7",
   "metadata": {},
   "source": [
    "# print object in   __dictionary__\n",
    "#### ___dict_____"
   ]
  },
  {
   "cell_type": "code",
   "execution_count": 19,
   "id": "d6eed400",
   "metadata": {},
   "outputs": [
    {
     "name": "stdout",
     "output_type": "stream",
     "text": [
      "{'name': 'Chandu', 'age': 23, 'gender': 'Male'}\n"
     ]
    }
   ],
   "source": [
    "class students:\n",
    "    def __init__(self,name,age,gender):\n",
    "        self.name = name\n",
    "        self.age = age\n",
    "        self.gender = gender\n",
    "    \n",
    "s0 = students(\"Chandu\",23,\"Male\")\n",
    "print(s0.__dict__)"
   ]
  },
  {
   "cell_type": "code",
   "execution_count": 30,
   "id": "e7b9710b",
   "metadata": {},
   "outputs": [
    {
     "name": "stdout",
     "output_type": "stream",
     "text": [
      "{'name': 'cahdnu', 'age': 334, 'marks': 64, 'x': 234, 'total': 360}\n",
      "{'name': 'Karthik', 'age': 87, 'wife': 'jhk'}\n"
     ]
    }
   ],
   "source": [
    "class Students:\n",
    "    def __init__(self,name,age):\n",
    "        self.name = name\n",
    "        self.age = age\n",
    "    def info(self):\n",
    "        self.marks = 64\n",
    "        x = 234\n",
    "        self.x  = 234\n",
    "        \n",
    "        \n",
    "        \n",
    "s0 = Students(\"cahdnu\",334)\n",
    "s0.info()\n",
    "s0.total = 360\n",
    "print(s0.__dict__)\n",
    "\n",
    "\n",
    "s1 = Students(\"Karthik\",87)\n",
    "s1.wife = \"jhk\"\n",
    "dicte = s1.__dict__\n",
    "print(s1.__dict__)"
   ]
  },
  {
   "cell_type": "code",
   "execution_count": 31,
   "id": "b28c236b",
   "metadata": {},
   "outputs": [
    {
     "name": "stdout",
     "output_type": "stream",
     "text": [
      "cahdnu\n",
      "334\n"
     ]
    }
   ],
   "source": [
    "print(s0.name)\n",
    "print(s0.age)"
   ]
  },
  {
   "cell_type": "code",
   "execution_count": 33,
   "id": "f2295aac",
   "metadata": {},
   "outputs": [
    {
     "name": "stdout",
     "output_type": "stream",
     "text": [
      "name\n",
      "age\n",
      "wife\n"
     ]
    }
   ],
   "source": [
    "for i in dicte:\n",
    "    print(i)"
   ]
  },
  {
   "cell_type": "code",
   "execution_count": 26,
   "id": "bb124b66",
   "metadata": {},
   "outputs": [
    {
     "name": "stdout",
     "output_type": "stream",
     "text": [
      "{'a': 10, 'b': 20, 'c': 30, 'd': 40}\n",
      "{'a': 10, 'b': 20, 'c': 30, 'e': 50, 's': 100, 'y': 200}\n"
     ]
    }
   ],
   "source": [
    "class Test:\n",
    "    def __init__(self):\n",
    "        self.a = 10\n",
    "        self.b = 20\n",
    "        self.c = 30\n",
    "    def  m1(self):\n",
    "        self.d = 40\n",
    "    \n",
    "\n",
    "    def m2(self):\n",
    "        self.e = 50\n",
    "        \n",
    "        \n",
    "t1 = Test()\n",
    "t1.m1()\n",
    "\n",
    "t2 = Test()\n",
    "t2.m2()\n",
    "\n",
    "t2.s = 100\n",
    "t2.y = 200\n",
    "print(t1.__dict__)\n",
    "print(t2.__dict__)"
   ]
  },
  {
   "cell_type": "markdown",
   "id": "ea2ddf04",
   "metadata": {},
   "source": [
    "# delete instence or atributes\n",
    "\n"
   ]
  },
  {
   "cell_type": "code",
   "execution_count": 40,
   "id": "fdb81b02",
   "metadata": {},
   "outputs": [
    {
     "name": "stdout",
     "output_type": "stream",
     "text": [
      "{'a': 10, 'c': 34}\n"
     ]
    }
   ],
   "source": [
    "class students:\n",
    "    def __init__(self,a,b,c):\n",
    "        self.a = a\n",
    "        self.b = b\n",
    "        self.c = c\n",
    "    def delete(self):\n",
    "        del self.b\n",
    "s0 = students(10,20,34)\n",
    "s0.delete()\n",
    "print(s0.__dict__)"
   ]
  },
  {
   "cell_type": "markdown",
   "id": "cf1a97e7",
   "metadata": {},
   "source": [
    "# important question"
   ]
  },
  {
   "cell_type": "code",
   "execution_count": 45,
   "id": "d18a43ca",
   "metadata": {},
   "outputs": [
    {
     "name": "stdout",
     "output_type": "stream",
     "text": [
      "30 20\n",
      "10 40\n"
     ]
    }
   ],
   "source": [
    "class Test:\n",
    "    def __init__(self):\n",
    "        self.a = 10\n",
    "        self.b = 20\n",
    "        #self.c =c\n",
    "\n",
    "test1 = Test()\n",
    "test2 = Test()\n",
    "\n",
    "test1.a = 30\n",
    "test2.b = 40\n",
    "\n",
    "print(test1.a,test1.b)\n",
    "print(test2.a,test2.b)"
   ]
  },
  {
   "cell_type": "code",
   "execution_count": null,
   "id": "0bb8c2c4",
   "metadata": {},
   "outputs": [],
   "source": []
  },
  {
   "cell_type": "code",
   "execution_count": 46,
   "id": "a4d2e252",
   "metadata": {},
   "outputs": [],
   "source": [
    "#instense variable\n",
    "#static variable\n",
    "#local variable\n",
    "\n",
    "#instance method \n",
    "#class method \n",
    "#static method"
   ]
  },
  {
   "cell_type": "code",
   "execution_count": 52,
   "id": "a054cc38",
   "metadata": {},
   "outputs": [
    {
     "name": "stdout",
     "output_type": "stream",
     "text": [
      "chandu 23 SVNIT\n",
      "{'name': 'chandu', 'age': 23}\n"
     ]
    }
   ],
   "source": [
    "class Students:\n",
    "    cname = \"SVNIT\"\n",
    "    def __init__(self,x,y):\n",
    "        self.name = x\n",
    "        self.age = y\n",
    "        \n",
    "    def display(self):\n",
    "        print(self.name,self.age,Students.cname)\n",
    "s0 = Students(\"chandu\",23)\n",
    "s0.display()\n",
    "print(s0.__dict__)"
   ]
  },
  {
   "cell_type": "markdown",
   "id": "6791f2b7",
   "metadata": {},
   "source": [
    "# protector modifiers\n",
    "# private modifiers\n",
    "\n",
    "public\n",
    "_proteced\n",
    "__private"
   ]
  },
  {
   "cell_type": "code",
   "execution_count": 12,
   "id": "0ada1ea1",
   "metadata": {},
   "outputs": [
    {
     "name": "stdout",
     "output_type": "stream",
     "text": [
      "chandu\n"
     ]
    },
    {
     "data": {
      "text/plain": [
       "'rebba'"
      ]
     },
     "execution_count": 12,
     "metadata": {},
     "output_type": "execute_result"
    }
   ],
   "source": [
    "#protector\n",
    "class Students:\n",
    "    _cname = \"SVNIT\"\n",
    "    def __init__(self,name,age):\n",
    "        self._name = name\n",
    "        self._age = age\n",
    "        \n",
    "s0 = Students(\"chandu\",22)\n",
    "print(s0._name)\n",
    "s0._name = \"rebba\"\n",
    "s0._name"
   ]
  },
  {
   "cell_type": "markdown",
   "id": "812b47fe",
   "metadata": {},
   "source": [
    "## how many ways we can store the static variable\n",
    "\n",
    "#### 1. whithin the class directly but from outside of any method\n",
    "#### 2. inside constructor by using  classname\n",
    "#### 3. Inside instence method by using classname\n",
    "#### 4. inside classmethod by using cls method or classname\n",
    "#### 5.inside static method by using  classname\n",
    "#### 5. from outside of class by using class name"
   ]
  },
  {
   "cell_type": "code",
   "execution_count": 4,
   "id": "3f5ac4c6",
   "metadata": {},
   "outputs": [
    {
     "name": "stdout",
     "output_type": "stream",
     "text": [
      "{'__module__': '__main__', 'a': 10, '__init__': <function Test.__init__ at 0x000001C62DF96F70>, 'm1': <function Test.m1 at 0x000001C62DFB3040>, 'm2': <classmethod object at 0x000001C62DFAFF10>, 'm3': <staticmethod object at 0x000001C62DFA24F0>, '__dict__': <attribute '__dict__' of 'Test' objects>, '__weakref__': <attribute '__weakref__' of 'Test' objects>, '__doc__': None, 'b': 20, 'c': 30, 'd': 40, 'e': 50, 'f': 60, 'g': 70}\n"
     ]
    }
   ],
   "source": [
    "class Test:\n",
    "    a = 10\n",
    "    def __init__(self):\n",
    "        Test.b = 20\n",
    "    def m1(self):\n",
    "        Test.c = 30\n",
    "    @classmethod\n",
    "    def m2(cls):\n",
    "        cls.d  = 40\n",
    "        Test.e = 50\n",
    "    @staticmethod\n",
    "    def m3():\n",
    "        Test.f = 60\n",
    "        \n",
    "t = Test()\n",
    "t.m1()\n",
    "t.m2()\n",
    "t.m3()\n",
    "Test.g = 70\n",
    "print(Test.__dict__)"
   ]
  },
  {
   "cell_type": "markdown",
   "id": "337eae20",
   "metadata": {},
   "source": [
    "# how to access the static variable"
   ]
  },
  {
   "cell_type": "code",
   "execution_count": 16,
   "id": "a7f31198",
   "metadata": {},
   "outputs": [
    {
     "name": "stdout",
     "output_type": "stream",
     "text": [
      "\n",
      "Inside construction:\n",
      "10\n",
      "10\n",
      "\n",
      "Inside instance method\n",
      "10\n",
      "10\n",
      "\n",
      "Inside Class method\n",
      "10\n",
      "10\n",
      "\n",
      "Inside static method:\n",
      "10\n",
      "\n",
      "outside of the class\n",
      "10\n",
      "10\n"
     ]
    }
   ],
   "source": [
    "class Test:\n",
    "    a = 10\n",
    "    def __init__(self):\n",
    "        print(\"\\nInside construction:\")\n",
    "        print(Test.a)\n",
    "        print(self.a)\n",
    "    def m1(self):\n",
    "        print(\"\\nInside instance method\")\n",
    "        print(Test.a)\n",
    "        print(self.a)\n",
    "    @classmethod\n",
    "    def m2(cls):\n",
    "        print(\"\\nInside Class method\")\n",
    "        print(Test.a)\n",
    "        print(cls.a)\n",
    "    @staticmethod\n",
    "    def m3():\n",
    "        print(\"\\nInside static method:\")\n",
    "        print(Test.a)\n",
    "        \n",
    "T =Test()\n",
    "T.m1()\n",
    "T.m2()\n",
    "T.m3()\n",
    "\n",
    "print(\"\\noutside of the class\")\n",
    "print(Test.a)\n",
    "print(T.a)"
   ]
  },
  {
   "cell_type": "markdown",
   "id": "10378c35",
   "metadata": {},
   "source": [
    "# How to modefy static variables"
   ]
  },
  {
   "cell_type": "code",
   "execution_count": 19,
   "id": "a15d472b",
   "metadata": {},
   "outputs": [
    {
     "name": "stdout",
     "output_type": "stream",
     "text": [
      "20\n",
      "30\n"
     ]
    }
   ],
   "source": [
    "#warning\n",
    "class Test:\n",
    "    a = 20\n",
    "    def __init__(self):\n",
    "        self.a = 30 # lef and right will not modefy it will become another instance variable\n",
    "t = Test()\n",
    "print(Test.a)\n",
    "print(t.a)"
   ]
  },
  {
   "cell_type": "code",
   "execution_count": 30,
   "id": "9d5a7142",
   "metadata": {},
   "outputs": [
    {
     "name": "stdout",
     "output_type": "stream",
     "text": [
      "60\n",
      "60\n"
     ]
    }
   ],
   "source": [
    "class Test:\n",
    "    a = 10\n",
    "    def __init__(self):\n",
    "        Test.a = 20 #modefed\n",
    "    #inside instence methode also same\n",
    "    @classmethod\n",
    "    def m1(cls):\n",
    "        cls.a = 30 #modefied\n",
    "        Test.a = 40 #modefied\n",
    "        \n",
    "    @staticmethod\n",
    "    def m2():\n",
    "        Test.a = 50\n",
    "        \n",
    "        \n",
    "t = Test()\n",
    "t.m1()\n",
    "t.m2()\n",
    "Test.a = 60\n",
    "print(Test.a)\n",
    "print(t.a)"
   ]
  },
  {
   "cell_type": "markdown",
   "id": "2bb15cb1",
   "metadata": {},
   "source": [
    "# how to delete Static variable"
   ]
  },
  {
   "cell_type": "code",
   "execution_count": 44,
   "id": "01d7c464",
   "metadata": {},
   "outputs": [
    {
     "name": "stdout",
     "output_type": "stream",
     "text": [
      "50\n"
     ]
    },
    {
     "ename": "AttributeError",
     "evalue": "type object 'Test' has no attribute 'a'",
     "output_type": "error",
     "traceback": [
      "\u001b[1;31m---------------------------------------------------------------------------\u001b[0m",
      "\u001b[1;31mAttributeError\u001b[0m                            Traceback (most recent call last)",
      "\u001b[1;32m~\\AppData\\Local\\Temp/ipykernel_22172/319599948.py\u001b[0m in \u001b[0;36m<module>\u001b[1;34m\u001b[0m\n\u001b[0;32m      7\u001b[0m \u001b[0mt\u001b[0m \u001b[1;33m=\u001b[0m \u001b[0mTest\u001b[0m\u001b[1;33m(\u001b[0m\u001b[1;33m)\u001b[0m\u001b[1;33m\u001b[0m\u001b[1;33m\u001b[0m\u001b[0m\n\u001b[0;32m      8\u001b[0m \u001b[0mt\u001b[0m\u001b[1;33m.\u001b[0m\u001b[0mm1\u001b[0m\u001b[1;33m(\u001b[0m\u001b[1;33m)\u001b[0m\u001b[1;33m\u001b[0m\u001b[1;33m\u001b[0m\u001b[0m\n\u001b[1;32m----> 9\u001b[1;33m \u001b[0mprint\u001b[0m\u001b[1;33m(\u001b[0m\u001b[0mTest\u001b[0m\u001b[1;33m.\u001b[0m\u001b[0ma\u001b[0m\u001b[1;33m)\u001b[0m\u001b[1;33m\u001b[0m\u001b[1;33m\u001b[0m\u001b[0m\n\u001b[0m",
      "\u001b[1;31mAttributeError\u001b[0m: type object 'Test' has no attribute 'a'"
     ]
    }
   ],
   "source": [
    "class Test:\n",
    "    a = 50\n",
    "    def m1(self):\n",
    "        del Test.a\n",
    "        \n",
    "print(Test.a)\n",
    "t = Test()\n",
    "t.m1()\n",
    "print(Test.a)"
   ]
  },
  {
   "cell_type": "code",
   "execution_count": 43,
   "id": "f332111c",
   "metadata": {},
   "outputs": [
    {
     "name": "stdout",
     "output_type": "stream",
     "text": [
      "10\n",
      "20\n"
     ]
    }
   ],
   "source": [
    "#exercise\n",
    "class Test:\n",
    "    a = 10\n",
    "    def m1(self):\n",
    "        self.a =20\n",
    "        \n",
    "t = Test()\n",
    "t.m1()\n",
    "print(Test.a)\n",
    "print(t.a)"
   ]
  },
  {
   "cell_type": "code",
   "execution_count": 47,
   "id": "4ee17499",
   "metadata": {},
   "outputs": [
    {
     "name": "stdout",
     "output_type": "stream",
     "text": [
      "30 30\n",
      "10\n"
     ]
    },
    {
     "ename": "AttributeError",
     "evalue": "'Test' object has no attribute 'y'",
     "output_type": "error",
     "traceback": [
      "\u001b[1;31m---------------------------------------------------------------------------\u001b[0m",
      "\u001b[1;31mAttributeError\u001b[0m                            Traceback (most recent call last)",
      "\u001b[1;32m~\\AppData\\Local\\Temp/ipykernel_22172/1814736011.py\u001b[0m in \u001b[0;36m<module>\u001b[1;34m\u001b[0m\n\u001b[0;32m     11\u001b[0m \u001b[0mprint\u001b[0m\u001b[1;33m(\u001b[0m\u001b[0mt1\u001b[0m\u001b[1;33m.\u001b[0m\u001b[0mx\u001b[0m\u001b[1;33m,\u001b[0m\u001b[0mt1\u001b[0m\u001b[1;33m.\u001b[0m\u001b[0mx\u001b[0m\u001b[1;33m)\u001b[0m\u001b[1;33m\u001b[0m\u001b[1;33m\u001b[0m\u001b[0m\n\u001b[0;32m     12\u001b[0m \u001b[0mprint\u001b[0m\u001b[1;33m(\u001b[0m\u001b[0mt2\u001b[0m\u001b[1;33m.\u001b[0m\u001b[0mx\u001b[0m\u001b[1;33m)\u001b[0m\u001b[1;33m\u001b[0m\u001b[1;33m\u001b[0m\u001b[0m\n\u001b[1;32m---> 13\u001b[1;33m \u001b[0mprint\u001b[0m\u001b[1;33m(\u001b[0m\u001b[0mt2\u001b[0m\u001b[1;33m.\u001b[0m\u001b[0my\u001b[0m\u001b[1;33m)\u001b[0m\u001b[1;33m\u001b[0m\u001b[1;33m\u001b[0m\u001b[0m\n\u001b[0m",
      "\u001b[1;31mAttributeError\u001b[0m: 'Test' object has no attribute 'y'"
     ]
    }
   ],
   "source": [
    "#excersice\n",
    "class Test:\n",
    "    x =10\n",
    "    def m1(self):\n",
    "        self.y = 20\n",
    "t1 = Test()\n",
    "t2 = Test()\n",
    "t1.x = 30\n",
    "t1.y = 40\n",
    "\n",
    "print(t1.x,t1.x)\n",
    "print(t2.x)\n",
    "print(t2.y)"
   ]
  },
  {
   "cell_type": "code",
   "execution_count": 51,
   "id": "72458886",
   "metadata": {},
   "outputs": [
    {
     "name": "stdout",
     "output_type": "stream",
     "text": [
      "30 40\n",
      "10\n",
      "20\n"
     ]
    }
   ],
   "source": [
    "#excersice\n",
    "class Test:\n",
    "    x =10\n",
    "    def __init__(self):\n",
    "        self.y = 20\n",
    "t1 = Test()\n",
    "t2 = Test()\n",
    "t1.x = 30      #instance variable created\n",
    "t1.y = 40\n",
    "\n",
    "print(t1.x,t1.y)\n",
    "print(t2.x)\n",
    "print(t2.y)"
   ]
  },
  {
   "cell_type": "code",
   "execution_count": 52,
   "id": "140c2ee3",
   "metadata": {},
   "outputs": [
    {
     "name": "stdout",
     "output_type": "stream",
     "text": [
      "30 40\n",
      "30\n",
      "20\n"
     ]
    }
   ],
   "source": [
    "#excersice\n",
    "class Test:\n",
    "    x =10\n",
    "    def __init__(self):\n",
    "        self.y = 20\n",
    "t1 = Test()\n",
    "t2 = Test()\n",
    "Test.x = 30      \n",
    "t1.y = 40\n",
    "\n",
    "\n",
    "print(t1.x,t1.y)\n",
    "print(t2.x)\n",
    "print(t2.y)"
   ]
  },
  {
   "cell_type": "code",
   "execution_count": 59,
   "id": "91abe919",
   "metadata": {},
   "outputs": [
    {
     "ename": "NameError",
     "evalue": "name 'count' is not defined",
     "output_type": "error",
     "traceback": [
      "\u001b[1;31m---------------------------------------------------------------------------\u001b[0m",
      "\u001b[1;31mNameError\u001b[0m                                 Traceback (most recent call last)",
      "\u001b[1;32m~\\AppData\\Local\\Temp/ipykernel_22172/3872174006.py\u001b[0m in \u001b[0;36m<module>\u001b[1;34m\u001b[0m\n\u001b[0;32m      4\u001b[0m         \u001b[0mself\u001b[0m\u001b[1;33m.\u001b[0m\u001b[0mcount\u001b[0m\u001b[1;33m=\u001b[0m\u001b[0mcount\u001b[0m\u001b[1;33m+\u001b[0m\u001b[1;36m1\u001b[0m\u001b[1;33m\u001b[0m\u001b[1;33m\u001b[0m\u001b[0m\n\u001b[0;32m      5\u001b[0m \u001b[1;33m\u001b[0m\u001b[0m\n\u001b[1;32m----> 6\u001b[1;33m \u001b[0ma\u001b[0m\u001b[1;33m=\u001b[0m\u001b[0mA\u001b[0m\u001b[1;33m(\u001b[0m\u001b[1;33m)\u001b[0m\u001b[1;33m\u001b[0m\u001b[1;33m\u001b[0m\u001b[0m\n\u001b[0m\u001b[0;32m      7\u001b[0m \u001b[0mprint\u001b[0m\u001b[1;33m(\u001b[0m\u001b[0ma\u001b[0m\u001b[1;33m.\u001b[0m\u001b[0mcount\u001b[0m\u001b[1;33m)\u001b[0m\u001b[1;33m\u001b[0m\u001b[1;33m\u001b[0m\u001b[0m\n",
      "\u001b[1;32m~\\AppData\\Local\\Temp/ipykernel_22172/3872174006.py\u001b[0m in \u001b[0;36m__init__\u001b[1;34m(self)\u001b[0m\n\u001b[0;32m      2\u001b[0m     \u001b[1;32mdef\u001b[0m \u001b[0m__init__\u001b[0m\u001b[1;33m(\u001b[0m\u001b[0mself\u001b[0m\u001b[1;33m)\u001b[0m\u001b[1;33m:\u001b[0m\u001b[1;33m\u001b[0m\u001b[1;33m\u001b[0m\u001b[0m\n\u001b[0;32m      3\u001b[0m         \u001b[0mself\u001b[0m\u001b[1;33m.\u001b[0m\u001b[0mcount\u001b[0m\u001b[1;33m=\u001b[0m\u001b[1;36m5\u001b[0m\u001b[1;33m\u001b[0m\u001b[1;33m\u001b[0m\u001b[0m\n\u001b[1;32m----> 4\u001b[1;33m         \u001b[0mself\u001b[0m\u001b[1;33m.\u001b[0m\u001b[0mcount\u001b[0m\u001b[1;33m=\u001b[0m\u001b[0mcount\u001b[0m\u001b[1;33m+\u001b[0m\u001b[1;36m1\u001b[0m\u001b[1;33m\u001b[0m\u001b[1;33m\u001b[0m\u001b[0m\n\u001b[0m\u001b[0;32m      5\u001b[0m \u001b[1;33m\u001b[0m\u001b[0m\n\u001b[0;32m      6\u001b[0m \u001b[0ma\u001b[0m\u001b[1;33m=\u001b[0m\u001b[0mA\u001b[0m\u001b[1;33m(\u001b[0m\u001b[1;33m)\u001b[0m\u001b[1;33m\u001b[0m\u001b[1;33m\u001b[0m\u001b[0m\n",
      "\u001b[1;31mNameError\u001b[0m: name 'count' is not defined"
     ]
    }
   ],
   "source": [
    "class A:\n",
    "    def __init__(self):\n",
    "        self.count=5\n",
    "        self.count=count+1\n",
    "\n",
    "a=A()\n",
    "print(a.count)"
   ]
  },
  {
   "cell_type": "code",
   "execution_count": 68,
   "id": "7a6825e7",
   "metadata": {},
   "outputs": [
    {
     "name": "stdout",
     "output_type": "stream",
     "text": [
      "1 2\n"
     ]
    }
   ],
   "source": [
    "#excersice\n",
    "class A:\n",
    "    def __init__(self, x= 1):\n",
    "        self.x = x\n",
    "class der(A):\n",
    "    def __init__(self,y = 2):\n",
    "        super().__init__()\n",
    "        self.y = y\n",
    "def main():\n",
    "    obj = der()\n",
    "    print(obj.x, obj.y)\n",
    "main()"
   ]
  },
  {
   "cell_type": "code",
   "execution_count": 69,
   "id": "d7b7ccec",
   "metadata": {},
   "outputs": [
    {
     "data": {
      "text/plain": [
       "'Arff!'"
      ]
     },
     "execution_count": 69,
     "metadata": {},
     "output_type": "execute_result"
    }
   ],
   "source": [
    "class Dog:\n",
    "     def walk(self):\n",
    "        return \"*walking*\"\n",
    "     def speak(self):\n",
    "        return \"Woof!\"\n",
    "\n",
    "class JackRussellTerrier(Dog):\n",
    "       def speak(self):\n",
    "            return \"Arff!\"\n",
    "\n",
    "bobo = JackRussellTerrier()\n",
    "bobo.speak()"
   ]
  },
  {
   "cell_type": "code",
   "execution_count": 70,
   "id": "7266c3f3",
   "metadata": {},
   "outputs": [
    {
     "data": {
      "text/plain": [
       "'Woof!'"
      ]
     },
     "execution_count": 70,
     "metadata": {},
     "output_type": "execute_result"
    }
   ],
   "source": [
    "class Dog:\n",
    "     def walk(self):\n",
    "        return \"*walking*\"\n",
    "     def speak(self):\n",
    "        return \"Woof!\"\n",
    "class JackRussellTerrier(Dog):\n",
    "     def talk(self):\n",
    "        return super().speak()\n",
    "\n",
    "bobo = JackRussellTerrier()\n",
    "bobo.talk()"
   ]
  },
  {
   "cell_type": "code",
   "execution_count": 1,
   "id": "55352391",
   "metadata": {},
   "outputs": [
    {
     "data": {
      "text/plain": [
       "2652.0"
      ]
     },
     "execution_count": 1,
     "metadata": {},
     "output_type": "execute_result"
    }
   ],
   "source": [
    "2864562.87//1080"
   ]
  },
  {
   "cell_type": "code",
   "execution_count": 2,
   "id": "9c66eb3c",
   "metadata": {},
   "outputs": [
    {
     "data": {
      "text/plain": [
       "2"
      ]
     },
     "execution_count": 2,
     "metadata": {},
     "output_type": "execute_result"
    }
   ],
   "source": [
    "2652//1080"
   ]
  },
  {
   "cell_type": "code",
   "execution_count": null,
   "id": "648d9a47",
   "metadata": {},
   "outputs": [],
   "source": []
  }
 ],
 "metadata": {
  "kernelspec": {
   "display_name": "Python 3 (ipykernel)",
   "language": "python",
   "name": "python3"
  },
  "language_info": {
   "codemirror_mode": {
    "name": "ipython",
    "version": 3
   },
   "file_extension": ".py",
   "mimetype": "text/x-python",
   "name": "python",
   "nbconvert_exporter": "python",
   "pygments_lexer": "ipython3",
   "version": "3.9.7"
  }
 },
 "nbformat": 4,
 "nbformat_minor": 5
}
